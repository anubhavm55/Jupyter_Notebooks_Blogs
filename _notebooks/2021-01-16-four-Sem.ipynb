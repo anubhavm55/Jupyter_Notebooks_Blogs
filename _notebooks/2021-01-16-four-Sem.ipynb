{
  "nbformat": 4,
  "nbformat_minor": 0,
  "metadata": {
    "colab": {
      "name": "2021-01-16-4thSem.ipynb",
      "provenance": []
    },
    "kernelspec": {
      "name": "python3",
      "display_name": "Python 3"
    }
  },
  "cells": [
    {
      "cell_type": "markdown",
      "metadata": {
        "id": "LyTkbXR57k1w"
      },
      "source": [
        "# Came back to Deep Learning(5th Semester)\r\n",
        "> How I hated deep learning but came back to it because there was nothing else\r\n",
        "\r\n",
        "- toc: true\r\n",
        "- badges: true\r\n",
        "- comments: true\r\n",
        "- author: Anubhav Mishra\r\n",
        "- categories: [deep learning]"
      ]
    },
    {
      "cell_type": "markdown",
      "metadata": {
        "id": "9MppNDXp9lzg"
      },
      "source": [
        "So, 4th semester is over and 5th semester is going to start soon. There will be a minor project in 5th semester as well and I have to think of a domain in which I would be doing it. Its not going to be deep learning for sure after my misadventures in the previous semester. Therefore I started Googling about minor project domains and ideas.\r\n",
        "\r\n",
        "## Android and Web Development\r\n",
        "\r\n",
        "Most frequent result I got was from android and web development. I've had some experience in both of these fields. Web development(HTML,CSS,JavaScript and PHP(oh yes PHP this is still alive in colleges) was taught as a part of my curriculum. Android Development, on the other hand, was not in my curriculum and I pursued it in first semester out of interest and made a tic-tac-toe game in android studio. It is nice for those who are just starting learning android development, just a bunch of if-else statements, algorithm can be found on [Quora](https://www.quora.com/Is-there-an-algorithm-to-win-every-3x3-Tic-Tac-Toe-game). \r\n",
        "\r\n",
        "I did not choose this field because I did not have a good time. Most of the time I was looking at documentation to make my work more presentable. There are so many functions and keywords to remember here and I do not like changing tabs often and looking for a function in the documentation, it just breaks my flow."
      ]
    },
    {
      "cell_type": "markdown",
      "metadata": {
        "id": "sBDiG41jPYyp"
      },
      "source": [
        "## Algorithmic Coding\r\n",
        "I do not know what to name it therefore I am calling it algorithmic coding. It is what you learn in class 10th and 12th. Basically you solve various number crunching, string, array etc. problems by applying some algorithm. This is the field which interests me the most. I like to know a problem, break it down and figure out an algorithm and when you see all green checks on codechef and then the amount of dopamine that releases, nothing can beat that feeling for me. But sadly there are not any minor projects you can do in this domain, if there are I was unable to find one."
      ]
    },
    {
      "cell_type": "markdown",
      "metadata": {
        "id": "1p6Mh2itPidg"
      },
      "source": [
        "## Back to Deep Learning\r\n",
        "So, with nothing in my hand, I came back to deep learning(time heals all wounds right!!).\r\n",
        "\r\n",
        "Topic was \"Human Object Interaction Recognition\". I read 2-3 research papers regarding this. I learned about ResNets and how they solve the problem of vanishing gradients and the number of hidden layers to keep in the model. I learned about LSTMs and how they are able to remember long term sequences by the presence of a cell state which runs down the entire network but still the problem remained that I did not know how to code it.\r\n",
        "\r\n",
        "![](https://media.tenor.com/images/399b973ff52a0b946af56de09673de17/tenor.gif)\r\n"
      ]
    },
    {
      "cell_type": "markdown",
      "metadata": {
        "id": "w3pWZzg9PNkZ"
      },
      "source": [
        "## Analyzing Code: Start of the learning part\r\n",
        "\r\n",
        "So after making all the required models taking inspiration from github we were required to make a detailed project report in which we had to explain the entire model and all the architectures involved. This is where I started analyzing the code and started to get sense of the coding part. For example, I found out that we can save the state of our model by exporting it to pickel file(It was a Eureka!! moment for me). The problem was that this was very random process, I still did not know how to write a custom layer but this gave me the boost I needed to search for resources to learn the coding part of it. It was because of this I found out about the fastai course and its like I have found something I was looking for ages."
      ]
    },
    {
      "cell_type": "markdown",
      "metadata": {
        "id": "yH9xb2Z2Rp7z"
      },
      "source": [
        "So that is how I gave deep learning a second chance and it has been good till now ngl.\r\n",
        "\r\n"
      ]
    },
    {
      "cell_type": "markdown",
      "metadata": {
        "id": "xdTulNj4R-vQ"
      },
      "source": [
        "Comments are welcome. Feel free to inform me about any errors I made. I am still learning."
      ]
    }
  ]
}
